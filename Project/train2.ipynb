{
 "cells": [
  {
   "cell_type": "code",
   "execution_count": 4,
   "id": "334f1cca-8b8c-4aac-ab8b-b016c3366925",
   "metadata": {},
   "outputs": [
    {
     "name": "stdout",
     "output_type": "stream",
     "text": [
      "{'0': {'precision': 0.8172043010752689, 'recall': 0.8735632183908046, 'f1-score': 0.8444444444444444, 'support': 87.0}, '1': {'precision': 0.5416666666666666, 'recall': 0.43333333333333335, 'f1-score': 0.48148148148148145, 'support': 30.0}, 'accuracy': 0.7606837606837606, 'macro avg': {'precision': 0.6794354838709677, 'recall': 0.653448275862069, 'f1-score': 0.662962962962963, 'support': 117.0}, 'weighted avg': {'precision': 0.7465536255858838, 'recall': 0.7606837606837606, 'f1-score': 0.7513770180436847, 'support': 117.0}}\n",
      "Model saved to liver_disease_model_xgboost.pkl\n"
     ]
    },
    {
     "name": "stderr",
     "output_type": "stream",
     "text": [
      "C:\\Users\\user\\AppData\\Local\\Programs\\Python\\Python312\\Lib\\site-packages\\xgboost\\training.py:183: UserWarning: [18:43:04] WARNING: C:\\actions-runner\\_work\\xgboost\\xgboost\\src\\learner.cc:738: \n",
      "Parameters: { \"use_label_encoder\" } are not used.\n",
      "\n",
      "  bst.update(dtrain, iteration=i, fobj=obj)\n"
     ]
    }
   ],
   "source": [
    "import pandas as pd\n",
    "from sklearn.model_selection import train_test_split\n",
    "from xgboost import XGBClassifier\n",
    "from sklearn.metrics import classification_report\n",
    "import joblib\n",
    "\n",
    "# Load the dataset\n",
    "file_path = 'Liver_data.csv'\n",
    "data = pd.read_csv(file_path)\n",
    "\n",
    "# Handle missing values by imputing with the median value of the column using .loc to avoid chained assignment warnings\n",
    "data.loc[:, 'Albumin_and_Globulin_Ratio'] = data['Albumin_and_Globulin_Ratio'].fillna(data['Albumin_and_Globulin_Ratio'].median())\n",
    "\n",
    "# Encode the 'Gender' column using one-hot encoding\n",
    "data = pd.get_dummies(data, columns=['Gender'], drop_first=True)\n",
    "\n",
    "# Remap the target variable: original values [1, 2] are converted to [0, 1]\n",
    "data['output'] = data['output'] - 1\n",
    "\n",
    "# Define features and target variable\n",
    "X = data.drop('output', axis=1)\n",
    "y = data['output']\n",
    "\n",
    "# Split the data into training and testing sets\n",
    "X_train, X_test, y_train, y_test = train_test_split(X, y, test_size=0.2, random_state=42)\n",
    "\n",
    "# Train an XGBoost model\n",
    "model = XGBClassifier(use_label_encoder=False, eval_metric='logloss')\n",
    "model.fit(X_train, y_train)\n",
    "\n",
    "# Evaluate the model\n",
    "y_pred = model.predict(X_test)\n",
    "report = classification_report(y_test, y_pred, output_dict=True)\n",
    "print(report)\n",
    "\n",
    "# Save the trained model to a file\n",
    "model_path = 'liver_disease_model_xgboost.pkl'\n",
    "joblib.dump(model, model_path)\n",
    "\n",
    "print(f\"Model saved to {model_path}\")\n"
   ]
  },
  {
   "cell_type": "code",
   "execution_count": null,
   "id": "5fea162d-731f-45cc-82f7-24dc59047e23",
   "metadata": {},
   "outputs": [],
   "source": []
  }
 ],
 "metadata": {
  "kernelspec": {
   "display_name": "Python 3 (ipykernel)",
   "language": "python",
   "name": "python3"
  },
  "language_info": {
   "codemirror_mode": {
    "name": "ipython",
    "version": 3
   },
   "file_extension": ".py",
   "mimetype": "text/x-python",
   "name": "python",
   "nbconvert_exporter": "python",
   "pygments_lexer": "ipython3",
   "version": "3.12.0"
  }
 },
 "nbformat": 4,
 "nbformat_minor": 5
}
